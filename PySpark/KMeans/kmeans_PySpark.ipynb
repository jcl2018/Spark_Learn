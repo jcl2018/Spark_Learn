{
 "cells": [
  {
   "cell_type": "code",
   "execution_count": 134,
   "id": "bbbadf1b-1ae8-47ac-8903-cb09432d593b",
   "metadata": {},
   "outputs": [],
   "source": [
    "# 1. Initialize Spark related\n",
    "import pyspark\n",
    "from pyspark.sql import SparkSession\n",
    "from PySpark_utils import *\n",
    "from tqdm import tqdm\n",
    "\n",
    "spark = SparkSession.builder.master(\"local[4]\") \\\n",
    "    .appName('PySparkKMeansApp') \\\n",
    "    .getOrCreate()"
   ]
  },
  {
   "cell_type": "code",
   "execution_count": 135,
   "id": "ffb43257-7c5d-4431-b089-a2a1cc545a3a",
   "metadata": {},
   "outputs": [],
   "source": [
    "# 2. Load data\n",
    "# Create data as RDD, C1/C2 as native lists"
   ]
  },
  {
   "cell_type": "code",
   "execution_count": 136,
   "id": "e4016516-7631-4978-95fe-97a0854df1a1",
   "metadata": {},
   "outputs": [],
   "source": [
    "# Data\n",
    "\n",
    "X_df = spark.read.text(\"../hw2-bundle/kmeans/data/data.txt\")\n",
    "X_rdd = X_df.rdd.map(lambda l: l[0])  # This will take the first value of each rowData, in our case, the string line\n",
    "X_rdd = X_rdd.map(lambda l: l.split(' '))\n",
    "X_rdd = X_rdd.map(lambda l: string_list_to_float(l)).cache()\n"
   ]
  },
  {
   "cell_type": "code",
   "execution_count": 137,
   "id": "d91af776-d182-4ae1-b2cd-174c553de8fb",
   "metadata": {},
   "outputs": [],
   "source": [
    "# C1 and C2\n",
    "def load_data(path):\n",
    "    with open(path, 'r') as f:\n",
    "        line = f.readline()\n",
    "        data = []\n",
    "        while line:\n",
    "            tmp_list = line.split(' ')\n",
    "            # len(tmp_list) should be M\n",
    "            for i in range(len(tmp_list)):\n",
    "                tmp_list[i] = float(tmp_list[i])\n",
    "            data.append(tmp_list)\n",
    "            line = f.readline()\n",
    "    return data\n",
    "C1 = load_data(\"../hw2-bundle/kmeans/data/c1.txt\")\n",
    "C2 = load_data(\"../hw2-bundle/kmeans/data/c2.txt\")\n"
   ]
  },
  {
   "cell_type": "code",
   "execution_count": 140,
   "id": "fa29f4b5-3342-46b8-b4b0-f314ed2abcee",
   "metadata": {},
   "outputs": [
    {
     "name": "stderr",
     "output_type": "stream",
     "text": [
      "100%|█████████████████████████████████████████████████████████████████████████████████████████████| 20/20 [00:25<00:00,  1.25s/it]\n"
     ]
    }
   ],
   "source": [
    "\n",
    "def partition_and_calc_cost(rdd, C):\n",
    "    \"\"\"\n",
    "    rdd: [0.0, 0.64, 0.64, 0.0,...]\n",
    "    \n",
    "    ret: ([0.0, 0.64, 0.64, 0.0,...], best_parition_idx, min_cost)\n",
    "    \"\"\"\n",
    "\n",
    "    part_idx = -1\n",
    "    min_dist = float('inf')\n",
    "    for p in range(len(C)):\n",
    "        tmp_dist = 0.0\n",
    "        for i in range(len(rdd)):\n",
    "            tmp_dist += (rdd[i]-C[p][i])**2  \n",
    "\n",
    "        if tmp_dist < min_dist:\n",
    "            part_idx = p\n",
    "            min_dist = tmp_dist\n",
    "\n",
    "    return (rdd, part_idx, min_dist)\n",
    "\n",
    "def recalc_centroid(all_points):\n",
    "    \"\"\"\n",
    "    all_points: a list of points [ [x11, x12 ... x158], ...]\n",
    "    \"\"\"\n",
    "    num_point = len(all_points)\n",
    "    num_dimension = len(all_points[0])\n",
    "    \n",
    "    sum_list = [0.0 for i in range(num_dimension)]\n",
    "    for i in range(num_point):\n",
    "        for j in range(num_dimension):\n",
    "            sum_list[j] += all_points[i][j]\n",
    "        \n",
    "    return [x / num_point for x in sum_list]\n",
    "\n",
    "# 3. Calculate initial cost and compute centroid (i.e., the 0th iteration)\n",
    "X_ext_rdd = X_rdd.map(lambda x : partition_and_calc_cost(x, C1))\n",
    "init_cost = X_ext_rdd.map(lambda x: x[2]).sum()\n",
    "\n",
    "# Group points by partition index\n",
    "Partition_rdd = X_ext_rdd.map(lambda x: (x[1], x[0])).groupByKey().mapValues(list)\n",
    "\n",
    "# For each partition, calculate new centroid\n",
    "Centroid_rdd = Partition_rdd.mapValues(lambda p: recalc_centroid(p)).map(lambda x: x[1])   \n",
    "new_C1 = Centroid_rdd.collect()\n",
    "\n",
    "# 4. Repeat for each iteration\n",
    "all_cost_list = [init_cost]\n",
    "\n",
    "for it in tqdm(range(20)):\n",
    "    X_ext_rdd = X_rdd.map(lambda x : partition_and_calc_cost(x, new_C1))\n",
    "    tmp_cost = X_ext_rdd.map(lambda x: x[2]).sum()\n",
    "    all_cost_list.append(tmp_cost)\n",
    "\n",
    "    # Group points by partition index\n",
    "    Partition_rdd = X_ext_rdd.map(lambda x: (x[1], x[0])).groupByKey().mapValues(list)\n",
    "\n",
    "    # For each partition, calculate new centroid\n",
    "    Centroid_rdd = Partition_rdd.mapValues(lambda p: recalc_centroid(p)).map(lambda x: x[1])   \n",
    "    new_C1 = Centroid_rdd.collect()"
   ]
  },
  {
   "cell_type": "code",
   "execution_count": 139,
   "id": "2b08ecf0-c3e9-4cc3-b4cd-4b327ef3435c",
   "metadata": {},
   "outputs": [
    {
     "name": "stdout",
     "output_type": "stream",
     "text": [
      "[623660345.3064234, 509862908.29754597, 485480681.8720084, 463997011.6850107, 460969266.572994, 460537847.98277014, 460313099.65354246, 460003523.8894068, 459570539.3177353, 459021103.3422901, 458490656.1919807, 457944232.5879742, 457558005.1986797, 457290136.3523032, 457050555.0595638, 456892235.6153574, 456703630.7370357, 456404203.0189769, 456177800.54199505, 455986871.0273484, 455729268.35514736]\n"
     ]
    }
   ],
   "source": [
    "# 5. plot\n",
    "\n",
    "print(all_cost_list)"
   ]
  },
  {
   "cell_type": "code",
   "execution_count": 118,
   "id": "9cef6494-85cc-400e-8644-d36130ee80a4",
   "metadata": {},
   "outputs": [],
   "source": [
    "\n",
    "def plot_cost(all_cost1, all_cost2):\n",
    "    fig, axs = plt.subplots(2)\n",
    "    fig.suptitle('Cost vs Iteration')\n",
    "\n",
    "    plt.setp(axs, xticks=[0, 5, 10, 15, 20], xticklabels=['0', '5', '10', '15', '20'])\n",
    "\n",
    "    idx = [i for i in range(len(all_cost1))]\n",
    "    axs[0].plot(idx, all_cost1)\n",
    "    axs[0].set_title('C1.txt')\n",
    "    axs[1].plot(idx, all_cost2)\n",
    "    axs[1].set_title('C2.txt')\n",
    "\n",
    "    fig.tight_layout()\n",
    "    plt.savefig(\"test.png\")"
   ]
  },
  {
   "cell_type": "code",
   "execution_count": 121,
   "id": "119b4782-0f6c-4d79-ac90-b743de5cd54f",
   "metadata": {},
   "outputs": [],
   "source": [
    "                     "
   ]
  },
  {
   "cell_type": "code",
   "execution_count": null,
   "id": "f3cdfb5b-7ca6-4290-930e-c8310ccc0257",
   "metadata": {},
   "outputs": [],
   "source": []
  },
  {
   "cell_type": "code",
   "execution_count": null,
   "id": "4c78d70a-870b-4825-8010-596ea361a20e",
   "metadata": {},
   "outputs": [],
   "source": []
  },
  {
   "cell_type": "code",
   "execution_count": null,
   "id": "585db2ce-719f-47e0-9563-b1ce4c4dc31f",
   "metadata": {},
   "outputs": [],
   "source": []
  }
 ],
 "metadata": {
  "kernelspec": {
   "display_name": "Python 3 (ipykernel)",
   "language": "python",
   "name": "python3"
  },
  "language_info": {
   "codemirror_mode": {
    "name": "ipython",
    "version": 3
   },
   "file_extension": ".py",
   "mimetype": "text/x-python",
   "name": "python",
   "nbconvert_exporter": "python",
   "pygments_lexer": "ipython3",
   "version": "3.9.13"
  }
 },
 "nbformat": 4,
 "nbformat_minor": 5
}
